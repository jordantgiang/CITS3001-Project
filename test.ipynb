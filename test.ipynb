{
 "cells": [
  {
   "cell_type": "code",
   "execution_count": 2,
   "metadata": {},
   "outputs": [
    {
     "data": {
      "text/plain": [
       "3"
      ]
     },
     "execution_count": 2,
     "metadata": {},
     "output_type": "execute_result"
    }
   ],
   "source": [
    "m = 3\n",
    "def test():\n",
    "    dic = {\"M3\":3}\n",
    "    m = 3\n",
    "    return dic[f\"M{m}\"]\n",
    "test()"
   ]
  },
  {
   "cell_type": "code",
   "execution_count": 10,
   "metadata": {},
   "outputs": [
    {
     "ename": "KeyError",
     "evalue": "0",
     "output_type": "error",
     "traceback": [
      "\u001b[1;31m---------------------------------------------------------------------------\u001b[0m",
      "\u001b[1;31mKeyError\u001b[0m                                  Traceback (most recent call last)",
      "\u001b[1;32m<ipython-input-10-52a418f0bcf2>\u001b[0m in \u001b[0;36m<module>\u001b[1;34m\u001b[0m\n\u001b[0;32m      6\u001b[0m \u001b[1;34m\"M5\"\u001b[0m\u001b[1;33m:\u001b[0m \u001b[1;33m{\u001b[0m\u001b[1;34m\"cost\"\u001b[0m\u001b[1;33m:\u001b[0m \u001b[1;36m5\u001b[0m\u001b[1;33m,\u001b[0m \u001b[1;34m\"strength\"\u001b[0m\u001b[1;33m:\u001b[0m \u001b[1;36m5\u001b[0m\u001b[1;33m,\u001b[0m \u001b[1;34m\"message\"\u001b[0m\u001b[1;33m:\u001b[0m \u001b[1;32mNone\u001b[0m\u001b[1;33m}\u001b[0m\u001b[1;33m\u001b[0m\u001b[1;33m\u001b[0m\u001b[0m\n\u001b[0;32m      7\u001b[0m } \n\u001b[1;32m----> 8\u001b[1;33m \u001b[0mredMessages\u001b[0m\u001b[1;33m[\u001b[0m\u001b[1;36m0\u001b[0m\u001b[1;33m]\u001b[0m\u001b[1;33m\u001b[0m\u001b[1;33m\u001b[0m\u001b[0m\n\u001b[0m",
      "\u001b[1;31mKeyError\u001b[0m: 0"
     ]
    }
   ],
   "source": [
    "redMessages =  {\n",
    "\"M1\": {\"cost\": 1, \"strength\": 1, \"message\": None}, \n",
    "\"M2\": {\"cost\": 2, \"strength\": 2, \"message\": None},\n",
    "\"M3\": {\"cost\": 3, \"strength\": 3, \"message\": None},\n",
    "\"M4\": {\"cost\": 4, \"strength\": 4, \"message\": None},\n",
    "\"M5\": {\"cost\": 5, \"strength\": 5, \"message\": None}\n",
    "} \n",
    "redMessages[0]\n",
    "\n"
   ]
  },
  {
   "cell_type": "code",
   "execution_count": null,
   "metadata": {},
   "outputs": [],
   "source": [
    "# Functions\n",
    "# --------------------------------------------------- \n",
    "# def initGame(greenSettings, greySettings, uncertaintyInt, votePercentage)\n",
    "\n",
    "# def initGameDefault(idFile, edgeFile):\n",
    "#     # Read file\n",
    "#     nodes = [] # Example: [(4, {\"color\": \"red\"}),(5, {\"color\": \"blue\"}),(6, {\"color\": \"green\", \"certainty\":0.5})]\n",
    "#     edges = [] # Example: [(1, 2), (1, 3)]\n",
    "    \n",
    "#     colourMap = []\n",
    "#     # Nodes file\n",
    "#     with open(idFile) as idF:\n",
    "#         lines = idF.readlines()\n",
    "#         for line in lines[1:]:\n",
    "#             line = line.strip(\"\\n\").split(\",\")\n",
    "#             if (line[1] == \"green\"):\n",
    "#                 nodes.append( (line[0], {\"colour\": line[1], \"certainty\": round(random.uniform(-1, 1), 2)}))\n",
    "#             else:\n",
    "#                 nodes.append( (line[0], {\"colour\": line[1]}) )\n",
    "#             colourMap.append(line[1].split(\"-\")[0])\n",
    "            \n",
    "#     # Edges file\n",
    "#     with open(edgeFile) as edgeF:\n",
    "#         lines = edgeF.readlines()\n",
    "#         for line in lines[1:]:\n",
    "#             line = line.strip(\"\\n\").split(\",\")\n",
    "#             edges.append( (line[0], line[1]) )\n",
    "    \n",
    "#     G = nx.Graph()\n",
    "#     G.add_nodes_from(nodes)\n",
    "#     G.add_edges_from(edges)\n",
    "    \n",
    "    # Draw graph\n",
    "    # nx.draw(G, with_labels=True, node_color=colourMap)\n",
    "    # plt.show() \n",
    "\n",
    "# initGameDefault(\"node-attributes\",\"network-2.csv\")"
   ]
  }
 ],
 "metadata": {
  "kernelspec": {
   "display_name": "Python 3.8.3 ('base')",
   "language": "python",
   "name": "python3"
  },
  "language_info": {
   "codemirror_mode": {
    "name": "ipython",
    "version": 3
   },
   "file_extension": ".py",
   "mimetype": "text/x-python",
   "name": "python",
   "nbconvert_exporter": "python",
   "pygments_lexer": "ipython3",
   "version": "3.8.3"
  },
  "orig_nbformat": 4,
  "vscode": {
   "interpreter": {
    "hash": "a077222d77dfe082b8f1dd562ad70e458ac2ab76993a0b248ab0476e32e9e8dd"
   }
  }
 },
 "nbformat": 4,
 "nbformat_minor": 2
}
