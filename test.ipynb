{
 "cells": [
  {
   "cell_type": "code",
   "execution_count": 2,
   "metadata": {},
   "outputs": [
    {
     "data": {
      "text/plain": [
       "3"
      ]
     },
     "execution_count": 2,
     "metadata": {},
     "output_type": "execute_result"
    }
   ],
   "source": [
    "m = 3\n",
    "def test():\n",
    "    dic = {\"M3\":3}\n",
    "    m = 3\n",
    "    return dic[f\"M{m}\"]\n",
    "test()"
   ]
  },
  {
   "cell_type": "code",
   "execution_count": 10,
   "metadata": {},
   "outputs": [
    {
     "ename": "KeyError",
     "evalue": "0",
     "output_type": "error",
     "traceback": [
      "\u001b[1;31m---------------------------------------------------------------------------\u001b[0m",
      "\u001b[1;31mKeyError\u001b[0m                                  Traceback (most recent call last)",
      "\u001b[1;32m<ipython-input-10-52a418f0bcf2>\u001b[0m in \u001b[0;36m<module>\u001b[1;34m\u001b[0m\n\u001b[0;32m      6\u001b[0m \u001b[1;34m\"M5\"\u001b[0m\u001b[1;33m:\u001b[0m \u001b[1;33m{\u001b[0m\u001b[1;34m\"cost\"\u001b[0m\u001b[1;33m:\u001b[0m \u001b[1;36m5\u001b[0m\u001b[1;33m,\u001b[0m \u001b[1;34m\"strength\"\u001b[0m\u001b[1;33m:\u001b[0m \u001b[1;36m5\u001b[0m\u001b[1;33m,\u001b[0m \u001b[1;34m\"message\"\u001b[0m\u001b[1;33m:\u001b[0m \u001b[1;32mNone\u001b[0m\u001b[1;33m}\u001b[0m\u001b[1;33m\u001b[0m\u001b[1;33m\u001b[0m\u001b[0m\n\u001b[0;32m      7\u001b[0m } \n\u001b[1;32m----> 8\u001b[1;33m \u001b[0mredMessages\u001b[0m\u001b[1;33m[\u001b[0m\u001b[1;36m0\u001b[0m\u001b[1;33m]\u001b[0m\u001b[1;33m\u001b[0m\u001b[1;33m\u001b[0m\u001b[0m\n\u001b[0m",
      "\u001b[1;31mKeyError\u001b[0m: 0"
     ]
    }
   ],
   "source": [
    "redMessages =  {\n",
    "\"M1\": {\"cost\": 1, \"strength\": 1, \"message\": None}, \n",
    "\"M2\": {\"cost\": 2, \"strength\": 2, \"message\": None},\n",
    "\"M3\": {\"cost\": 3, \"strength\": 3, \"message\": None},\n",
    "\"M4\": {\"cost\": 4, \"strength\": 4, \"message\": None},\n",
    "\"M5\": {\"cost\": 5, \"strength\": 5, \"message\": None}\n",
    "} \n",
    "redMessages[0]\n",
    "\n"
   ]
  },
  {
   "cell_type": "code",
   "execution_count": null,
   "metadata": {},
   "outputs": [],
   "source": [
    "if Vperc <= 70 and self.energy >= 5:\n",
    "            if self.energy >= 75:\n",
    "                return self.messages[\"M5\"]\n",
    "            elif self.energy >= 50:\n",
    "                return self.messages[\"M4\"]\n",
    "            else:\n",
    "                return self.messages[\"M3\"]\n",
    "        elif Vperc <= 75 and self.energy >= 4:\n",
    "            if self.energy >= 75:\n",
    "                return self.messages[\"M4\"]\n",
    "            elif self.energy >= 50:\n",
    "                return self.messages[\"M3\"]\n",
    "            else:\n",
    "                return self.messages[\"M2\"]\n",
    "        elif Vperc <= 80 and self.energy >= 3:\n",
    "            if self.energy >= 75:\n",
    "                return self.messages[\"M3\"]\n",
    "            elif self.energy >= 50:\n",
    "                return self.messages[\"M2\"]\n",
    "            else:\n",
    "                return self.messages[\"M1\"]\n",
    "        if Vperc <= 85 and self.energy >= 2:\n",
    "            if self.energy >= 50:\n",
    "                return self.messages[\"M2\"]\n",
    "            else:\n",
    "                return self.messages[\"M1\"]\n",
    "        else:\n",
    "            return self.messages[\"M1\"]"
   ]
  },
  {
   "cell_type": "code",
   "execution_count": null,
   "metadata": {},
   "outputs": [],
   "source": [
    "# Functions\n",
    "# --------------------------------------------------- \n",
    "# def initGame(greenSettings, greySettings, uncertaintyInt, votePercentage)\n",
    "\n",
    "# def initGameDefault(idFile, edgeFile):\n",
    "#     # Read file\n",
    "#     nodes = [] # Example: [(4, {\"color\": \"red\"}),(5, {\"color\": \"blue\"}),(6, {\"color\": \"green\", \"certainty\":0.5})]\n",
    "#     edges = [] # Example: [(1, 2), (1, 3)]\n",
    "    \n",
    "#     colourMap = []\n",
    "#     # Nodes file\n",
    "#     with open(idFile) as idF:\n",
    "#         lines = idF.readlines()\n",
    "#         for line in lines[1:]:\n",
    "#             line = line.strip(\"\\n\").split(\",\")\n",
    "#             if (line[1] == \"green\"):\n",
    "#                 nodes.append( (line[0], {\"colour\": line[1], \"certainty\": round(random.uniform(-1, 1), 2)}))\n",
    "#             else:\n",
    "#                 nodes.append( (line[0], {\"colour\": line[1]}) )\n",
    "#             colourMap.append(line[1].split(\"-\")[0])\n",
    "            \n",
    "#     # Edges file\n",
    "#     with open(edgeFile) as edgeF:\n",
    "#         lines = edgeF.readlines()\n",
    "#         for line in lines[1:]:\n",
    "#             line = line.strip(\"\\n\").split(\",\")\n",
    "#             edges.append( (line[0], line[1]) )\n",
    "    \n",
    "#     G = nx.Graph()\n",
    "#     G.add_nodes_from(nodes)\n",
    "#     G.add_edges_from(edges)\n",
    "    \n",
    "    # Draw graph\n",
    "    # nx.draw(G, with_labels=True, node_color=colourMap)\n",
    "    # plt.show() \n",
    "\n",
    "# initGameDefault(\"node-attributes\",\"network-2.csv\")"
   ]
  },
  {
   "cell_type": "code",
   "execution_count": 73,
   "metadata": {},
   "outputs": [
    {
     "data": {
      "text/html": [
       "<div>\n",
       "<style scoped>\n",
       "    .dataframe tbody tr th:only-of-type {\n",
       "        vertical-align: middle;\n",
       "    }\n",
       "\n",
       "    .dataframe tbody tr th {\n",
       "        vertical-align: top;\n",
       "    }\n",
       "\n",
       "    .dataframe thead th {\n",
       "        text-align: right;\n",
       "    }\n",
       "</style>\n",
       "<table border=\"1\" class=\"dataframe\">\n",
       "  <thead>\n",
       "    <tr style=\"text-align: right;\">\n",
       "      <th></th>\n",
       "      <th>Uncertainty</th>\n",
       "      <th>Vote</th>\n",
       "    </tr>\n",
       "  </thead>\n",
       "  <tbody>\n",
       "    <tr>\n",
       "      <th>0</th>\n",
       "      <td>0.4</td>\n",
       "      <td>True</td>\n",
       "    </tr>\n",
       "    <tr>\n",
       "      <th>1</th>\n",
       "      <td>-0.5</td>\n",
       "      <td>True</td>\n",
       "    </tr>\n",
       "    <tr>\n",
       "      <th>2</th>\n",
       "      <td>0.1</td>\n",
       "      <td>True</td>\n",
       "    </tr>\n",
       "    <tr>\n",
       "      <th>3</th>\n",
       "      <td>-0.0</td>\n",
       "      <td>True</td>\n",
       "    </tr>\n",
       "    <tr>\n",
       "      <th>4</th>\n",
       "      <td>-0.9</td>\n",
       "      <td>True</td>\n",
       "    </tr>\n",
       "    <tr>\n",
       "      <th>5</th>\n",
       "      <td>0.0</td>\n",
       "      <td>True</td>\n",
       "    </tr>\n",
       "    <tr>\n",
       "      <th>6</th>\n",
       "      <td>0.2</td>\n",
       "      <td>True</td>\n",
       "    </tr>\n",
       "    <tr>\n",
       "      <th>7</th>\n",
       "      <td>-0.5</td>\n",
       "      <td>True</td>\n",
       "    </tr>\n",
       "    <tr>\n",
       "      <th>8</th>\n",
       "      <td>0.8</td>\n",
       "      <td>True</td>\n",
       "    </tr>\n",
       "    <tr>\n",
       "      <th>9</th>\n",
       "      <td>-0.5</td>\n",
       "      <td>True</td>\n",
       "    </tr>\n",
       "  </tbody>\n",
       "</table>\n",
       "</div>"
      ],
      "text/plain": [
       "   Uncertainty  Vote\n",
       "0          0.4  True\n",
       "1         -0.5  True\n",
       "2          0.1  True\n",
       "3         -0.0  True\n",
       "4         -0.9  True\n",
       "5          0.0  True\n",
       "6          0.2  True\n",
       "7         -0.5  True\n",
       "8          0.8  True\n",
       "9         -0.5  True"
      ]
     },
     "execution_count": 73,
     "metadata": {},
     "output_type": "execute_result"
    }
   ],
   "source": [
    "import random\n",
    "import pandas as pd\n",
    "import matplotlib as plt\n",
    "\n",
    "data = []\n",
    "greenNum = 100\n",
    "uncRange = (-0.9, 0.9)\n",
    "\n",
    "for i in range(greenNum):\n",
    "    \n",
    "    # Node's uncertainty and opinion\n",
    "    vote = False\n",
    "    if (i < greenNum * 0.5):\n",
    "        vote = True\n",
    "    \n",
    "    uncertainty = round(random.uniform(uncRange[0], uncRange[1]), 1)\n",
    "    \n",
    "    #------------------ plot question ------------------\n",
    "    data.append([uncertainty, vote])\n",
    "    \n",
    "    data_df = pd.DataFrame(data, columns=[\"Uncertainty\", \"Vote\"])\n",
    "\n",
    "data_df.head(10)\n",
    "# fig, axes = plt.subplots(figsize=(10,5), facecolor=\"#eaeaf2\", ncols=2, sharey=True)\n",
    "# fig.tight_layout()\n",
    "\n",
    "# axes[0].bar(index, column0, align='center', color=color_red, zorder=10)\n",
    "# axes[1].bar(index, column1, align='center', color=color_blue, zorder=10)"
   ]
  },
  {
   "cell_type": "code",
   "execution_count": 74,
   "metadata": {},
   "outputs": [
    {
     "data": {
      "text/plain": [
       "Uncertainty  Vote \n",
       "-0.5         True     7\n",
       " 0.6         False    6\n",
       " 0.4         True     6\n",
       "-0.1         False    6\n",
       "-0.3         True     6\n",
       "-0.0         True     5\n",
       "-0.6         False    5\n",
       "-0.8         False    4\n",
       " 0.1         False    4\n",
       "-0.5         False    3\n",
       "-0.2         True     3\n",
       "-0.7         False    3\n",
       " 0.5         False    3\n",
       "-0.0         False    3\n",
       "-0.8         True     3\n",
       " 0.3         True     3\n",
       " 0.8         False    2\n",
       " 0.6         True     2\n",
       " 0.3         False    2\n",
       " 0.8         True     2\n",
       " 0.5         True     2\n",
       " 0.9         True     2\n",
       " 0.2         True     2\n",
       "             False    2\n",
       "-0.1         True     2\n",
       "-0.2         False    2\n",
       "-0.4         False    2\n",
       " 0.4         False    1\n",
       " 0.1         True     1\n",
       "-0.3         False    1\n",
       " 0.7         False    1\n",
       "             True     1\n",
       "-0.6         True     1\n",
       "-0.7         True     1\n",
       "-0.9         True     1\n",
       "dtype: int64"
      ]
     },
     "execution_count": 74,
     "metadata": {},
     "output_type": "execute_result"
    }
   ],
   "source": [
    "# count = data_df.value_counts()\n",
    "plot_df = pd.DataFrame([[-0.9, 1, 0],[-0.8, 3, 4],[-0.7, 1, 3],[-0.6, 1, 5],[-0.5, 7, 3],[-0.4, 0, 2],[-0.3, 6, 1],[-0.2, 3, 2],[-0.1, 2, 6],[0.0, 5, 4], [0.1, 1, 4],[0.2, 2, 0],[0.3, 3, 2],[0.4, 6, 1],[0.5, 2, 3],[0.6, 2, 6],[0.7, 0, 1],[0.8, 2, 2],[0.9, 2, 0],], columns=[\"Uncertainty\", \"Voters\", \"Non-Voters\"])\n",
    "plot_df.set_index('Uncertainty', inplace=True)\n",
    "plot_df.head()"
   ]
  },
  {
   "cell_type": "code",
   "execution_count": 62,
   "metadata": {},
   "outputs": [],
   "source": [
    "import matplotlib.pyplot as plt\n",
    "import matplotlib as mpl\n",
    "import pandas as pd"
   ]
  },
  {
   "cell_type": "code",
   "execution_count": 59,
   "metadata": {},
   "outputs": [],
   "source": [
    "        \n",
    "font_color = '#525252'\n",
    "facecolor = '#eaeaf2'\n",
    "color_red = '#fd625e'\n",
    "color_blue = '#01b8aa'\n",
    "index = plot_df.index\n",
    "column0 = plot_df['Voters']\n",
    "column1 = plot_df['Non-Voters']\n",
    "title0 = 'Number of Voters'\n",
    "title1 = 'Number of Non-Voters'\n",
    "    "
   ]
  },
  {
   "cell_type": "code",
   "execution_count": 72,
   "metadata": {},
   "outputs": [
    {
     "data": {
      "text/plain": [
       "Text(0.5, 1.0, 'Number of Non-Voters')"
      ]
     },
     "execution_count": 72,
     "metadata": {},
     "output_type": "execute_result"
    },
    {
     "data": {
      "image/png": "[encoded data removed]",
      "text/plain": [
       "<Figure size 1000x500 with 2 Axes>"
      ]
     },
     "metadata": {},
     "output_type": "display_data"
    }
   ],
   "source": [
    "        \n",
    "fig, axes = plt.subplots(figsize=(10,5), facecolor=facecolor, ncols=2, sharey=True)\n",
    "fig.tight_layout()\n",
    "\n",
    "        \n",
    "axes[0].bar(index, column0, width=0.1, align='center', color=color_red, edgecolor=color_blue, zorder=10)\n",
    "axes[0].set_title(title0, fontsize=18, pad=15, color=color_red)\n",
    "axes[1].bar(index, column1, width=0.1, align='center', color=color_blue, edgecolor=color_red, zorder=10)\n",
    "axes[1].set_title(title1, fontsize=18, pad=15, color=color_blue)\n",
    "    \n",
    "        \n",
    "# axes[0].set(xticks=data.index, xticklabels=data.index)\n",
    "# axes[0].xaxis.tick_left()\n",
    "# axes[0].tick_params(axis='x', colors='white') # tick color\n",
    "    \n",
    "            \n",
    "# axes[1].set_xticks([-0.1, 0.0, 0.1, 0.0, -0.1])\n",
    "    "
   ]
  },
  {
   "cell_type": "code",
   "execution_count": 44,
   "metadata": {},
   "outputs": [],
   "source": [
    "import math\n",
    "def Calc(u1, u2):\n",
    "    if (abs(u1) > 1 or abs(u2) > 1):\n",
    "        print(\"Invalid uncertainty values\")\n",
    "        return -1\n",
    "    \n",
    "    op1 = True\n",
    "    op2 = False\n",
    "    diff = (1-u1) + (1-u2)\n",
    "    \n",
    "    scaleFac = 0.5\n",
    "    \n",
    "    c1 = (scaleFac * diff) / math.pow(2, (1 - u1))\n",
    "    \n",
    "    c2 = (scaleFac * diff) / math.pow(2, (1 - u2))\n",
    "    \n",
    "    newU1 = u1 + c1\n",
    "    if (newU1 > 1):\n",
    "        overflow = newU1 - 1\n",
    "        newU1 = 1 - overflow\n",
    "        op1 = not op1\n",
    "        \n",
    "        \n",
    "    newU2 = u2 + c2\n",
    "    if (newU2 > 1):\n",
    "        overflow = newU2 - 1\n",
    "        newU2 = 1 - overflow\n",
    "        op2 = not op2\n",
    "        \n",
    "    if (op1):\n",
    "        str1 = \"Vote\"\n",
    "    else:\n",
    "        str1 = \"No Vote\"\n",
    "        \n",
    "    if (op2):\n",
    "        str2 = \"Vote\"\n",
    "    else:\n",
    "        str2 = \"No Vote\"\n",
    "        \n",
    "    print(f\"Calc({u1}, {u2})\\n\\tDiff: {diff}\")\n",
    "    print(f\"Node 1 change: {c1}\\n\\t Vote {u1} -> {str1} {newU1}\")\n",
    "    print(f\"Node 2 change: {c2}\\n\\t No Vote {u2} -> {str2} {newU2}\\n\")"
   ]
  },
  {
   "cell_type": "code",
   "execution_count": 45,
   "metadata": {},
   "outputs": [
    {
     "name": "stdout",
     "output_type": "stream",
     "text": [
      "Calc(-0.6, 0.2)\n",
      "\tDiff: 2.4000000000000004\n",
      "Node 1 change: 0.3958523732318683\n",
      "\t Vote -0.6 -> Vote -0.2041476267681317\n",
      "Node 2 change: 0.6892190129982211\n",
      "\t No Vote 0.2 -> No Vote 0.8892190129982211\n",
      "\n",
      "Calc(0.2, 0.8)\n",
      "\tDiff: 1.0\n",
      "Node 1 change: 0.2871745887492588\n",
      "\t Vote 0.2 -> Vote 0.4871745887492588\n",
      "Node 2 change: 0.4352752816480621\n",
      "\t No Vote 0.8 -> Vote 0.7647247183519379\n",
      "\n",
      "Calc(-0.5, -0.8)\n",
      "\tDiff: 3.3\n",
      "Node 1 change: 0.5833630944789017\n",
      "\t Vote -0.5 -> Vote 0.08336309447890167\n",
      "Node 2 change: 0.47383807143627693\n",
      "\t No Vote -0.8 -> No Vote -0.3261619285637231\n",
      "\n"
     ]
    }
   ],
   "source": [
    "# Calc(-0.4, 0.7)\n",
    "\n",
    "# Calc(-1, -1)\n",
    "\n",
    "# Calc(0.5, 0.5)\n",
    "\n",
    "# Calc(0.9, 0.9)\n",
    "\n",
    "Calc(-0.6, 0.2)\n",
    "\n",
    "Calc(0.2, 0.8)\n",
    "\n",
    "Calc(-0.5, -0.8)\n",
    "\n"
   ]
  }
 ],
 "metadata": {
  "kernelspec": {
   "display_name": "Python 3.8.3 ('base')",
   "language": "python",
   "name": "python3"
  },
  "language_info": {
   "codemirror_mode": {
    "name": "ipython",
    "version": 3
   },
   "file_extension": ".py",
   "mimetype": "text/x-python",
   "name": "python",
   "nbconvert_exporter": "python",
   "pygments_lexer": "ipython3",
   "version": "3.8.3"
  },
  "orig_nbformat": 4,
  "vscode": {
   "interpreter": {
    "hash": "a077222d77dfe082b8f1dd562ad70e458ac2ab76993a0b248ab0476e32e9e8dd"
   }
  }
 },
 "nbformat": 4,
 "nbformat_minor": 2
}
