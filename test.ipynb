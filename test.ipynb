{
 "cells": [
  {
   "cell_type": "code",
   "execution_count": 2,
   "metadata": {},
   "outputs": [
    {
     "data": {
      "text/plain": [
       "3"
      ]
     },
     "execution_count": 2,
     "metadata": {},
     "output_type": "execute_result"
    }
   ],
   "source": [
    "m = 3\n",
    "def test():\n",
    "    dic = {\"M3\":3}\n",
    "    m = 3\n",
    "    return dic[f\"M{m}\"]\n",
    "test()"
   ]
  },
  {
   "cell_type": "code",
   "execution_count": 10,
   "metadata": {},
   "outputs": [
    {
     "ename": "KeyError",
     "evalue": "0",
     "output_type": "error",
     "traceback": [
      "\u001b[1;31m---------------------------------------------------------------------------\u001b[0m",
      "\u001b[1;31mKeyError\u001b[0m                                  Traceback (most recent call last)",
      "\u001b[1;32m<ipython-input-10-52a418f0bcf2>\u001b[0m in \u001b[0;36m<module>\u001b[1;34m\u001b[0m\n\u001b[0;32m      6\u001b[0m \u001b[1;34m\"M5\"\u001b[0m\u001b[1;33m:\u001b[0m \u001b[1;33m{\u001b[0m\u001b[1;34m\"cost\"\u001b[0m\u001b[1;33m:\u001b[0m \u001b[1;36m5\u001b[0m\u001b[1;33m,\u001b[0m \u001b[1;34m\"strength\"\u001b[0m\u001b[1;33m:\u001b[0m \u001b[1;36m5\u001b[0m\u001b[1;33m,\u001b[0m \u001b[1;34m\"message\"\u001b[0m\u001b[1;33m:\u001b[0m \u001b[1;32mNone\u001b[0m\u001b[1;33m}\u001b[0m\u001b[1;33m\u001b[0m\u001b[1;33m\u001b[0m\u001b[0m\n\u001b[0;32m      7\u001b[0m } \n\u001b[1;32m----> 8\u001b[1;33m \u001b[0mredMessages\u001b[0m\u001b[1;33m[\u001b[0m\u001b[1;36m0\u001b[0m\u001b[1;33m]\u001b[0m\u001b[1;33m\u001b[0m\u001b[1;33m\u001b[0m\u001b[0m\n\u001b[0m",
      "\u001b[1;31mKeyError\u001b[0m: 0"
     ]
    }
   ],
   "source": [
    "redMessages =  {\n",
    "\"M1\": {\"cost\": 1, \"strength\": 1, \"message\": None}, \n",
    "\"M2\": {\"cost\": 2, \"strength\": 2, \"message\": None},\n",
    "\"M3\": {\"cost\": 3, \"strength\": 3, \"message\": None},\n",
    "\"M4\": {\"cost\": 4, \"strength\": 4, \"message\": None},\n",
    "\"M5\": {\"cost\": 5, \"strength\": 5, \"message\": None}\n",
    "} \n",
    "redMessages[0]\n",
    "\n"
   ]
  },
  {
   "cell_type": "code",
   "execution_count": null,
   "metadata": {},
   "outputs": [],
   "source": [
    "if Vperc <= 70 and self.energy >= 5:\n",
    "            if self.energy >= 75:\n",
    "                return self.messages[\"M5\"]\n",
    "            elif self.energy >= 50:\n",
    "                return self.messages[\"M4\"]\n",
    "            else:\n",
    "                return self.messages[\"M3\"]\n",
    "        elif Vperc <= 75 and self.energy >= 4:\n",
    "            if self.energy >= 75:\n",
    "                return self.messages[\"M4\"]\n",
    "            elif self.energy >= 50:\n",
    "                return self.messages[\"M3\"]\n",
    "            else:\n",
    "                return self.messages[\"M2\"]\n",
    "        elif Vperc <= 80 and self.energy >= 3:\n",
    "            if self.energy >= 75:\n",
    "                return self.messages[\"M3\"]\n",
    "            elif self.energy >= 50:\n",
    "                return self.messages[\"M2\"]\n",
    "            else:\n",
    "                return self.messages[\"M1\"]\n",
    "        if Vperc <= 85 and self.energy >= 2:\n",
    "            if self.energy >= 50:\n",
    "                return self.messages[\"M2\"]\n",
    "            else:\n",
    "                return self.messages[\"M1\"]\n",
    "        else:\n",
    "            return self.messages[\"M1\"]"
   ]
  },
  {
   "cell_type": "code",
   "execution_count": null,
   "metadata": {},
   "outputs": [],
   "source": [
    "# Functions\n",
    "# --------------------------------------------------- \n",
    "# def initGame(greenSettings, greySettings, uncertaintyInt, votePercentage)\n",
    "\n",
    "# def initGameDefault(idFile, edgeFile):\n",
    "#     # Read file\n",
    "#     nodes = [] # Example: [(4, {\"color\": \"red\"}),(5, {\"color\": \"blue\"}),(6, {\"color\": \"green\", \"certainty\":0.5})]\n",
    "#     edges = [] # Example: [(1, 2), (1, 3)]\n",
    "    \n",
    "#     colourMap = []\n",
    "#     # Nodes file\n",
    "#     with open(idFile) as idF:\n",
    "#         lines = idF.readlines()\n",
    "#         for line in lines[1:]:\n",
    "#             line = line.strip(\"\\n\").split(\",\")\n",
    "#             if (line[1] == \"green\"):\n",
    "#                 nodes.append( (line[0], {\"colour\": line[1], \"certainty\": round(random.uniform(-1, 1), 2)}))\n",
    "#             else:\n",
    "#                 nodes.append( (line[0], {\"colour\": line[1]}) )\n",
    "#             colourMap.append(line[1].split(\"-\")[0])\n",
    "            \n",
    "#     # Edges file\n",
    "#     with open(edgeFile) as edgeF:\n",
    "#         lines = edgeF.readlines()\n",
    "#         for line in lines[1:]:\n",
    "#             line = line.strip(\"\\n\").split(\",\")\n",
    "#             edges.append( (line[0], line[1]) )\n",
    "    \n",
    "#     G = nx.Graph()\n",
    "#     G.add_nodes_from(nodes)\n",
    "#     G.add_edges_from(edges)\n",
    "    \n",
    "    # Draw graph\n",
    "    # nx.draw(G, with_labels=True, node_color=colourMap)\n",
    "    # plt.show() \n",
    "\n",
    "# initGameDefault(\"node-attributes\",\"network-2.csv\")"
   ]
  },
  {
   "cell_type": "code",
   "execution_count": 44,
   "metadata": {},
   "outputs": [],
   "source": [
    "import math\n",
    "def Calc(u1, u2):\n",
    "    if (abs(u1) > 1 or abs(u2) > 1):\n",
    "        print(\"Invalid uncertainty values\")\n",
    "        return -1\n",
    "    \n",
    "    op1 = True\n",
    "    op2 = False\n",
    "    diff = (1-u1) + (1-u2)\n",
    "    \n",
    "    scaleFac = 0.5\n",
    "    \n",
    "    c1 = (scaleFac * diff) / math.pow(2, (1 - u1))\n",
    "    \n",
    "    c2 = (scaleFac * diff) / math.pow(2, (1 - u2))\n",
    "    \n",
    "    newU1 = u1 + c1\n",
    "    if (newU1 > 1):\n",
    "        overflow = newU1 - 1\n",
    "        newU1 = 1 - overflow\n",
    "        op1 = not op1\n",
    "        \n",
    "        \n",
    "    newU2 = u2 + c2\n",
    "    if (newU2 > 1):\n",
    "        overflow = newU2 - 1\n",
    "        newU2 = 1 - overflow\n",
    "        op2 = not op2\n",
    "        \n",
    "    if (op1):\n",
    "        str1 = \"Vote\"\n",
    "    else:\n",
    "        str1 = \"No Vote\"\n",
    "        \n",
    "    if (op2):\n",
    "        str2 = \"Vote\"\n",
    "    else:\n",
    "        str2 = \"No Vote\"\n",
    "        \n",
    "    print(f\"Calc({u1}, {u2})\\n\\tDiff: {diff}\")\n",
    "    print(f\"Node 1 change: {c1}\\n\\t Vote {u1} -> {str1} {newU1}\")\n",
    "    print(f\"Node 2 change: {c2}\\n\\t No Vote {u2} -> {str2} {newU2}\\n\")"
   ]
  },
  {
   "cell_type": "code",
   "execution_count": 45,
   "metadata": {},
   "outputs": [
    {
     "name": "stdout",
     "output_type": "stream",
     "text": [
      "Calc(-0.6, 0.2)\n",
      "\tDiff: 2.4000000000000004\n",
      "Node 1 change: 0.3958523732318683\n",
      "\t Vote -0.6 -> Vote -0.2041476267681317\n",
      "Node 2 change: 0.6892190129982211\n",
      "\t No Vote 0.2 -> No Vote 0.8892190129982211\n",
      "\n",
      "Calc(0.2, 0.8)\n",
      "\tDiff: 1.0\n",
      "Node 1 change: 0.2871745887492588\n",
      "\t Vote 0.2 -> Vote 0.4871745887492588\n",
      "Node 2 change: 0.4352752816480621\n",
      "\t No Vote 0.8 -> Vote 0.7647247183519379\n",
      "\n",
      "Calc(-0.5, -0.8)\n",
      "\tDiff: 3.3\n",
      "Node 1 change: 0.5833630944789017\n",
      "\t Vote -0.5 -> Vote 0.08336309447890167\n",
      "Node 2 change: 0.47383807143627693\n",
      "\t No Vote -0.8 -> No Vote -0.3261619285637231\n",
      "\n"
     ]
    }
   ],
   "source": [
    "# Calc(-0.4, 0.7)\n",
    "\n",
    "# Calc(-1, -1)\n",
    "\n",
    "# Calc(0.5, 0.5)\n",
    "\n",
    "# Calc(0.9, 0.9)\n",
    "\n",
    "Calc(-0.6, 0.2)\n",
    "\n",
    "Calc(0.2, 0.8)\n",
    "\n",
    "Calc(-0.5, -0.8)\n",
    "\n"
   ]
  }
 ],
 "metadata": {
  "kernelspec": {
   "display_name": "Python 3.8.3 ('base')",
   "language": "python",
   "name": "python3"
  },
  "language_info": {
   "codemirror_mode": {
    "name": "ipython",
    "version": 3
   },
   "file_extension": ".py",
   "mimetype": "text/x-python",
   "name": "python",
   "nbconvert_exporter": "python",
   "pygments_lexer": "ipython3",
   "version": "3.8.3"
  },
  "orig_nbformat": 4,
  "vscode": {
   "interpreter": {
    "hash": "a077222d77dfe082b8f1dd562ad70e458ac2ab76993a0b248ab0476e32e9e8dd"
   }
  }
 },
 "nbformat": 4,
 "nbformat_minor": 2
}
